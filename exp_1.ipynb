{
  "nbformat": 4,
  "nbformat_minor": 0,
  "metadata": {
    "colab": {
      "provenance": [],
      "authorship_tag": "ABX9TyMkjLU1/LGSexBbG4qpYhZN",
      "include_colab_link": true
    },
    "kernelspec": {
      "name": "python3",
      "display_name": "Python 3"
    },
    "language_info": {
      "name": "python"
    }
  },
  "cells": [
    {
      "cell_type": "markdown",
      "metadata": {
        "id": "view-in-github",
        "colab_type": "text"
      },
      "source": [
        "<a href=\"https://colab.research.google.com/github/vaishnavisureshbabu010905/ml-lab/blob/main/exp_1.ipynb\" target=\"_parent\"><img src=\"https://colab.research.google.com/assets/colab-badge.svg\" alt=\"Open In Colab\"/></a>"
      ]
    },
    {
      "cell_type": "code",
      "execution_count": 1,
      "metadata": {
        "colab": {
          "base_uri": "https://localhost:8080/"
        },
        "id": "YtgTAoERH6G_",
        "outputId": "546eaf27-03b9-49f5-8647-5905498d6ff5"
      },
      "outputs": [
        {
          "output_type": "stream",
          "name": "stdout",
          "text": [
            "Enter the first number:10\n",
            "Enter the second number:15\n",
            "The sum of 10 and 15 is 25\n"
          ]
        }
      ],
      "source": [
        "a=int(input(\"Enter the first number:\"))\n",
        "b=int(input(\"Enter the second number:\"))\n",
        "sum_result=a+b\n",
        "print(\"The sum of\",a,\"and\",b,\"is\",sum_result)"
      ]
    },
    {
      "cell_type": "code",
      "source": [
        "num=int(input(\"Enter a number:\"))\n",
        "if num%2==0:\n",
        "  print(num,\"is Even\")\n",
        "else:\n",
        "  print(num,\"is Odd\")"
      ],
      "metadata": {
        "colab": {
          "base_uri": "https://localhost:8080/"
        },
        "id": "QyzBRXprK7e0",
        "outputId": "d295b7d5-8e31-4754-9afd-1ad52204e43c"
      },
      "execution_count": 2,
      "outputs": [
        {
          "output_type": "stream",
          "name": "stdout",
          "text": [
            "Enter a number:7\n",
            "7 is Odd\n"
          ]
        }
      ]
    },
    {
      "cell_type": "code",
      "source": [
        "num=int(input(\"Enter a number:\"))\n",
        "if num>1:\n",
        "  for i in range(2,num):\n",
        "    if num%i==0:\n",
        "      print(num,\"is NOT a prime number\")\n",
        "      break\n",
        "    else:\n",
        "        print(num,\"is a Prime number\")\n",
        "  else:\n",
        "    print(num,\"is NOT a Prime number\")\n",
        "\n"
      ],
      "metadata": {
        "colab": {
          "base_uri": "https://localhost:8080/"
        },
        "id": "2F_lg34WLTzf",
        "outputId": "e0c82668-b89f-41e8-ae91-d8db8c930b80"
      },
      "execution_count": 6,
      "outputs": [
        {
          "output_type": "stream",
          "name": "stdout",
          "text": [
            "Enter a number:11\n",
            "11 is a Prime number\n",
            "11 is a Prime number\n",
            "11 is a Prime number\n",
            "11 is a Prime number\n",
            "11 is a Prime number\n",
            "11 is a Prime number\n",
            "11 is a Prime number\n",
            "11 is a Prime number\n",
            "11 is a Prime number\n",
            "11 is NOT a Prime number\n"
          ]
        }
      ]
    },
    {
      "cell_type": "code",
      "source": [
        "a=int(input(\"Enter first number:\"))\n",
        "b=int(input(\"Enter second number:\"))\n",
        "c=int(input(\"Enter third number:\"))\n",
        "d=int(input(\"Enter fourth number:\"))\n",
        "largest=max(a,b,c,d)\n",
        "print(\"The largest number is:\",largest)"
      ],
      "metadata": {
        "colab": {
          "base_uri": "https://localhost:8080/"
        },
        "id": "WvlOJlyIM3-o",
        "outputId": "c2a1e162-f5fe-4a80-a5f5-a200729017d2"
      },
      "execution_count": 7,
      "outputs": [
        {
          "output_type": "stream",
          "name": "stdout",
          "text": [
            "Enter first number:45\n",
            "Enter second number:32\n",
            "Enter third number:77\n",
            "Enter fourth number:29\n",
            "The largest number is: 77\n"
          ]
        }
      ]
    },
    {
      "cell_type": "code",
      "source": [
        "num=int(input(\"Enter a number:\"))\n",
        "factorial=1\n",
        "for i in range(1,num+1):\n",
        "  factorial*=i\n",
        "print(\"Factorial of\",num,\"is\",factorial)"
      ],
      "metadata": {
        "colab": {
          "base_uri": "https://localhost:8080/"
        },
        "id": "jaiDQbVgNzff",
        "outputId": "9918397d-e9f2-40de-d9f9-88e6a24319cc"
      },
      "execution_count": 9,
      "outputs": [
        {
          "output_type": "stream",
          "name": "stdout",
          "text": [
            "Enter a number:5\n",
            "Factorial of 5 is 120\n"
          ]
        }
      ]
    },
    {
      "cell_type": "code",
      "source": [
        "num=int(input(\"Enter a number:\"))\n",
        "reverse=0\n",
        "temp=num\n",
        "while temp>0:\n",
        "  digit=temp%10\n",
        "  reverse=reverse*10+digit\n",
        "  temp//=10\n",
        "print(\"Reversed number is:\",reverse)"
      ],
      "metadata": {
        "colab": {
          "base_uri": "https://localhost:8080/"
        },
        "id": "-SpTw-xTOjdf",
        "outputId": "ae4a0d6d-a892-4770-cdc6-98c427650ed0"
      },
      "execution_count": 12,
      "outputs": [
        {
          "output_type": "stream",
          "name": "stdout",
          "text": [
            "Enter a number:1234\n",
            "Reversed number is: 4321\n"
          ]
        }
      ]
    },
    {
      "cell_type": "code",
      "source": [
        "s=input(\"Enter a string:\")\n",
        "if s==s[::-1]:\n",
        "  print(\"The string is a Palindrome\")\n",
        "else:\n",
        "  print(\"The string is NOT a palindrome\")\n",
        ""
      ],
      "metadata": {
        "colab": {
          "base_uri": "https://localhost:8080/"
        },
        "id": "ReifZBG7Oxi-",
        "outputId": "cf354875-995d-45ba-8c06-c47f2aa0c3dd"
      },
      "execution_count": 13,
      "outputs": [
        {
          "output_type": "stream",
          "name": "stdout",
          "text": [
            "Enter a string:madam\n",
            "The string is a Palindrome\n"
          ]
        }
      ]
    },
    {
      "cell_type": "code",
      "source": [
        "num=input(\"Enter a number:\")\n",
        "sum_digits=sum(int(d) for d in num)\n",
        "print(\"Sum of digits of\",num,\"is\",sum_digits)"
      ],
      "metadata": {
        "colab": {
          "base_uri": "https://localhost:8080/"
        },
        "id": "acS14KFFPoq0",
        "outputId": "ab21b773-5a08-46c5-f68f-2866ef9f2305"
      },
      "execution_count": 14,
      "outputs": [
        {
          "output_type": "stream",
          "name": "stdout",
          "text": [
            "Enter a number:1234\n",
            "Sum of digits of 1234 is 10\n"
          ]
        }
      ]
    },
    {
      "cell_type": "code",
      "source": [
        "num=int(input(\"Enter a number:\"))\n",
        "print(f\"Multiplication Table of{num}:\")\n",
        "for i in range(1,11):\n",
        "  print(f\"{num}*{i}={num*i}\")"
      ],
      "metadata": {
        "colab": {
          "base_uri": "https://localhost:8080/"
        },
        "id": "qSVE3hXGQD9S",
        "outputId": "71e51ad3-a579-4e65-ceae-2277ff33a7fa"
      },
      "execution_count": 15,
      "outputs": [
        {
          "output_type": "stream",
          "name": "stdout",
          "text": [
            "Enter a number:5\n",
            "Multiplication Table of5:\n",
            "5*1=5\n",
            "5*2=10\n",
            "5*3=15\n",
            "5*4=20\n",
            "5*5=25\n",
            "5*6=30\n",
            "5*7=35\n",
            "5*8=40\n",
            "5*9=45\n",
            "5*10=50\n"
          ]
        }
      ]
    },
    {
      "cell_type": "code",
      "source": [
        "a=float(input(\"Enter first number:\"))\n",
        "b=float(input(\"Enter second number:\"))\n",
        "op=input(\"Enter operation(+,-,*,/):\")\n",
        "if op=='+':\n",
        "  print(\"Result:\",a+b)\n",
        "elif op=='-':\n",
        "  print(\"Result:\",a-b)\n",
        "elif op=='*':\n",
        "  print(\"Result:\",a*b)\n",
        "elif op=='/':\n",
        "  if b!=0:\n",
        "    print(\"Result:\",a/b)\n",
        "  else:\n",
        "    print(\"Error:Division by zero\")\n",
        "else:\n",
        "    print(\"Invalid operator\")\n"
      ],
      "metadata": {
        "colab": {
          "base_uri": "https://localhost:8080/"
        },
        "id": "1YGcqzBuQ0G6",
        "outputId": "fadb5b2e-3634-4569-cb11-f852eddc4e13"
      },
      "execution_count": 16,
      "outputs": [
        {
          "output_type": "stream",
          "name": "stdout",
          "text": [
            "Enter first number:20\n",
            "Enter second number:4\n",
            "Enter operation(+,-,*,/):/\n",
            "Result: 5.0\n"
          ]
        }
      ]
    },
    {
      "cell_type": "code",
      "source": [
        "num=int(input(\"Number:\"))\n",
        "for i in range(1,(num+1),1):\n",
        "  print(\"*\"*i)"
      ],
      "metadata": {
        "colab": {
          "base_uri": "https://localhost:8080/"
        },
        "id": "ZuZ3nRUVSOVR",
        "outputId": "6bb48a44-54b6-4fb7-cde4-761a234896a6"
      },
      "execution_count": 20,
      "outputs": [
        {
          "output_type": "stream",
          "name": "stdout",
          "text": [
            "Number:4\n",
            "*\n",
            "**\n",
            "***\n",
            "****\n"
          ]
        }
      ]
    }
  ]
}