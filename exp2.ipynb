{
  "nbformat": 4,
  "nbformat_minor": 0,
  "metadata": {
    "colab": {
      "provenance": [],
      "authorship_tag": "ABX9TyMR+pKqT+ObDwY1OKdEK/tx",
      "include_colab_link": true
    },
    "kernelspec": {
      "name": "python3",
      "display_name": "Python 3"
    },
    "language_info": {
      "name": "python"
    }
  },
  "cells": [
    {
      "cell_type": "markdown",
      "metadata": {
        "id": "view-in-github",
        "colab_type": "text"
      },
      "source": [
        "<a href=\"https://colab.research.google.com/github/vaishnavisureshbabu010905/ml-lab/blob/main/exp2.ipynb\" target=\"_parent\"><img src=\"https://colab.research.google.com/assets/colab-badge.svg\" alt=\"Open In Colab\"/></a>"
      ]
    },
    {
      "cell_type": "code",
      "execution_count": 2,
      "metadata": {
        "colab": {
          "base_uri": "https://localhost:8080/"
        },
        "id": "_MwO0yThUjwU",
        "outputId": "f1437677-dc70-4034-89f3-515aabd7d6e2"
      },
      "outputs": [
        {
          "output_type": "stream",
          "name": "stdout",
          "text": [
            "1.First 5 rows of the dataset:\n",
            "(df.head())\n",
            "\n",
            "2.Column names:\n",
            "['MODELYEAR', 'MAKE', 'MODEL', 'VEHICLECLASS', 'ENGINESIZE', 'CYLINDERS', 'TRANSMISSION', 'FUELTYPE', 'FUELCONSUMPTION_CITY', 'FUELCONSUMPTION_HWY', 'FUELCONSUMPTION_COMB', 'FUELCONSUMPTION_COMB_MPG', 'CO2EMISSIONS']\n",
            "\n",
            "3.Shape of the dataset(rows,columns): (1067, 13)\n",
            "\n",
            "4.Data Types:\n",
            "MODELYEAR                     int64\n",
            "MAKE                         object\n",
            "MODEL                        object\n",
            "VEHICLECLASS                 object\n",
            "ENGINESIZE                  float64\n",
            "CYLINDERS                     int64\n",
            "TRANSMISSION                 object\n",
            "FUELTYPE                     object\n",
            "FUELCONSUMPTION_CITY        float64\n",
            "FUELCONSUMPTION_HWY         float64\n",
            "FUELCONSUMPTION_COMB        float64\n",
            "FUELCONSUMPTION_COMB_MPG      int64\n",
            "CO2EMISSIONS                  int64\n",
            "dtype: object\n",
            "\n",
            "5.Summary statistics.info():\n",
            "<class 'pandas.core.frame.DataFrame'>\n",
            "RangeIndex: 1067 entries, 0 to 1066\n",
            "Data columns (total 13 columns):\n",
            " #   Column                    Non-Null Count  Dtype  \n",
            "---  ------                    --------------  -----  \n",
            " 0   MODELYEAR                 1067 non-null   int64  \n",
            " 1   MAKE                      1067 non-null   object \n",
            " 2   MODEL                     1067 non-null   object \n",
            " 3   VEHICLECLASS              1067 non-null   object \n",
            " 4   ENGINESIZE                1067 non-null   float64\n",
            " 5   CYLINDERS                 1067 non-null   int64  \n",
            " 6   TRANSMISSION              1067 non-null   object \n",
            " 7   FUELTYPE                  1067 non-null   object \n",
            " 8   FUELCONSUMPTION_CITY      1067 non-null   float64\n",
            " 9   FUELCONSUMPTION_HWY       1067 non-null   float64\n",
            " 10  FUELCONSUMPTION_COMB      1067 non-null   float64\n",
            " 11  FUELCONSUMPTION_COMB_MPG  1067 non-null   int64  \n",
            " 12  CO2EMISSIONS              1067 non-null   int64  \n",
            "dtypes: float64(4), int64(4), object(5)\n",
            "memory usage: 108.5+ KB\n",
            "None\n",
            "\n",
            "6.Summary statistics_describe():\n",
            "        MODELYEAR  MAKE         MODEL VEHICLECLASS   ENGINESIZE    CYLINDERS  \\\n",
            "count      1067.0  1067          1067         1067  1067.000000  1067.000000   \n",
            "unique        NaN    39           663           16          NaN          NaN   \n",
            "top           NaN  FORD  F150 FFV 4X4     MID-SIZE          NaN          NaN   \n",
            "freq          NaN    90             8          178          NaN          NaN   \n",
            "mean       2014.0   NaN           NaN          NaN     3.346298     5.794752   \n",
            "std           0.0   NaN           NaN          NaN     1.415895     1.797447   \n",
            "min        2014.0   NaN           NaN          NaN     1.000000     3.000000   \n",
            "25%        2014.0   NaN           NaN          NaN     2.000000     4.000000   \n",
            "50%        2014.0   NaN           NaN          NaN     3.400000     6.000000   \n",
            "75%        2014.0   NaN           NaN          NaN     4.300000     8.000000   \n",
            "max        2014.0   NaN           NaN          NaN     8.400000    12.000000   \n",
            "\n",
            "       TRANSMISSION FUELTYPE  FUELCONSUMPTION_CITY  FUELCONSUMPTION_HWY  \\\n",
            "count          1067     1067           1067.000000          1067.000000   \n",
            "unique           22        4                   NaN                  NaN   \n",
            "top              A6        X                   NaN                  NaN   \n",
            "freq            222      514                   NaN                  NaN   \n",
            "mean            NaN      NaN             13.296532             9.474602   \n",
            "std             NaN      NaN              4.101253             2.794510   \n",
            "min             NaN      NaN              4.600000             4.900000   \n",
            "25%             NaN      NaN             10.250000             7.500000   \n",
            "50%             NaN      NaN             12.600000             8.800000   \n",
            "75%             NaN      NaN             15.550000            10.850000   \n",
            "max             NaN      NaN             30.200000            20.500000   \n",
            "\n",
            "        FUELCONSUMPTION_COMB  FUELCONSUMPTION_COMB_MPG  CO2EMISSIONS  \n",
            "count            1067.000000               1067.000000   1067.000000  \n",
            "unique                   NaN                       NaN           NaN  \n",
            "top                      NaN                       NaN           NaN  \n",
            "freq                     NaN                       NaN           NaN  \n",
            "mean               11.580881                 26.441425    256.228679  \n",
            "std                 3.485595                  7.468702     63.372304  \n",
            "min                 4.700000                 11.000000    108.000000  \n",
            "25%                 9.000000                 21.000000    207.000000  \n",
            "50%                10.900000                 26.000000    251.000000  \n",
            "75%                13.350000                 31.000000    294.000000  \n",
            "max                25.800000                 60.000000    488.000000  \n",
            "\n",
            "7.Missing values in Each column:\n",
            "MODELYEAR                   0\n",
            "MAKE                        0\n",
            "MODEL                       0\n",
            "VEHICLECLASS                0\n",
            "ENGINESIZE                  0\n",
            "CYLINDERS                   0\n",
            "TRANSMISSION                0\n",
            "FUELTYPE                    0\n",
            "FUELCONSUMPTION_CITY        0\n",
            "FUELCONSUMPTION_HWY         0\n",
            "FUELCONSUMPTION_COMB        0\n",
            "FUELCONSUMPTION_COMB_MPG    0\n",
            "CO2EMISSIONS                0\n",
            "dtype: int64\n"
          ]
        }
      ],
      "source": [
        "import pandas as pd\n",
        "df=pd.read_csv(\"/content/FuelConsumption (2) (2).csv\")\n",
        "print(f\"1.First 5 rows of the dataset:\\n(df.head())\")\n",
        "print(\"\\n2.Column names:\")\n",
        "print(df.columns.tolist())\n",
        "print(\"\\n3.Shape of the dataset(rows,columns):\",df.shape)\n",
        "print(\"\\n4.Data Types:\")\n",
        "print(df.dtypes)\n",
        "print(\"\\n5.Summary statistics.info():\")\n",
        "print(df.info())\n",
        "print(\"\\n6.Summary statistics_describe():\")\n",
        "print(df.describe(include=\"all\"))\n",
        "print(\"\\n7.Missing values in Each column:\")\n",
        "print(df.isnull().sum())"
      ]
    },
    {
      "cell_type": "code",
      "source": [
        "df_bfill=df.copy()\n",
        "df_bfill['FUELCONSUMPTION_CITY']=df_bfill['FUELCONSUMPTION_CITY'].fillna(method='bfill')\n",
        "print(\"\\n Missing values after backward fill:\")\n",
        "print(df_bfill.isnull().sum)"
      ],
      "metadata": {
        "colab": {
          "base_uri": "https://localhost:8080/"
        },
        "id": "R0D1zn8aXbn8",
        "outputId": "e694d029-4e0d-4bef-a406-f921d614b647"
      },
      "execution_count": 3,
      "outputs": [
        {
          "output_type": "stream",
          "name": "stdout",
          "text": [
            "\n",
            " Missing values after backward fill:\n",
            "<bound method DataFrame.sum of       MODELYEAR   MAKE  MODEL  VEHICLECLASS  ENGINESIZE  CYLINDERS  \\\n",
            "0         False  False  False         False       False      False   \n",
            "1         False  False  False         False       False      False   \n",
            "2         False  False  False         False       False      False   \n",
            "3         False  False  False         False       False      False   \n",
            "4         False  False  False         False       False      False   \n",
            "...         ...    ...    ...           ...         ...        ...   \n",
            "1062      False  False  False         False       False      False   \n",
            "1063      False  False  False         False       False      False   \n",
            "1064      False  False  False         False       False      False   \n",
            "1065      False  False  False         False       False      False   \n",
            "1066      False  False  False         False       False      False   \n",
            "\n",
            "      TRANSMISSION  FUELTYPE  FUELCONSUMPTION_CITY  FUELCONSUMPTION_HWY  \\\n",
            "0            False     False                 False                False   \n",
            "1            False     False                 False                False   \n",
            "2            False     False                 False                False   \n",
            "3            False     False                 False                False   \n",
            "4            False     False                 False                False   \n",
            "...            ...       ...                   ...                  ...   \n",
            "1062         False     False                 False                False   \n",
            "1063         False     False                 False                False   \n",
            "1064         False     False                 False                False   \n",
            "1065         False     False                 False                False   \n",
            "1066         False     False                 False                False   \n",
            "\n",
            "      FUELCONSUMPTION_COMB  FUELCONSUMPTION_COMB_MPG  CO2EMISSIONS  \n",
            "0                    False                     False         False  \n",
            "1                    False                     False         False  \n",
            "2                    False                     False         False  \n",
            "3                    False                     False         False  \n",
            "4                    False                     False         False  \n",
            "...                    ...                       ...           ...  \n",
            "1062                 False                     False         False  \n",
            "1063                 False                     False         False  \n",
            "1064                 False                     False         False  \n",
            "1065                 False                     False         False  \n",
            "1066                 False                     False         False  \n",
            "\n",
            "[1067 rows x 13 columns]>\n"
          ]
        },
        {
          "output_type": "stream",
          "name": "stderr",
          "text": [
            "/tmp/ipython-input-1950660455.py:2: FutureWarning: Series.fillna with 'method' is deprecated and will raise in a future version. Use obj.ffill() or obj.bfill() instead.\n",
            "  df_bfill['FUELCONSUMPTION_CITY']=df_bfill['FUELCONSUMPTION_CITY'].fillna(method='bfill')\n"
          ]
        }
      ]
    },
    {
      "cell_type": "code",
      "source": [
        "df_ffill=df.copy()\n",
        "df_ffill['FUELCONSUMPTION_CITY']=df_ffill['FUELCONSUMPTION_CITY'].fillna(method='ffill')\n",
        "print(\"\\n Missing values after forward fill:\")\n",
        "print(df_ffill.isnull().sum())"
      ],
      "metadata": {
        "colab": {
          "base_uri": "https://localhost:8080/"
        },
        "id": "_Y7iyzbHYZl5",
        "outputId": "fa6b2810-0908-4b25-abe7-c13fb9b402f5"
      },
      "execution_count": 4,
      "outputs": [
        {
          "output_type": "stream",
          "name": "stdout",
          "text": [
            "\n",
            " Missing values after forward fill:\n",
            "MODELYEAR                   0\n",
            "MAKE                        0\n",
            "MODEL                       0\n",
            "VEHICLECLASS                0\n",
            "ENGINESIZE                  0\n",
            "CYLINDERS                   0\n",
            "TRANSMISSION                0\n",
            "FUELTYPE                    0\n",
            "FUELCONSUMPTION_CITY        0\n",
            "FUELCONSUMPTION_HWY         0\n",
            "FUELCONSUMPTION_COMB        0\n",
            "FUELCONSUMPTION_COMB_MPG    0\n",
            "CO2EMISSIONS                0\n",
            "dtype: int64\n"
          ]
        },
        {
          "output_type": "stream",
          "name": "stderr",
          "text": [
            "/tmp/ipython-input-44957805.py:2: FutureWarning: Series.fillna with 'method' is deprecated and will raise in a future version. Use obj.ffill() or obj.bfill() instead.\n",
            "  df_ffill['FUELCONSUMPTION_CITY']=df_ffill['FUELCONSUMPTION_CITY'].fillna(method='ffill')\n"
          ]
        }
      ]
    },
    {
      "cell_type": "code",
      "source": [],
      "metadata": {
        "id": "aJLy89RgZM6M"
      },
      "execution_count": null,
      "outputs": []
    }
  ]
}